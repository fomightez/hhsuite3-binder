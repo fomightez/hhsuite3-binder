{
 "cells": [
  {
   "cell_type": "markdown",
   "metadata": {},
   "source": [
    "# Notebooks for Demonstrating HH-suite3 Use and Integrating with Python\n",
    "\n",
    "My collection demonstrating HH-suite3 use. Additionallu illustrates the the use of Python-based resources and the Jupyter environment to assist.\n",
    "\n",
    "Select a notebook from this index below to begin. If you don't know where to start, begin at the top because those focus more on the introductory aspects.\n",
    "\n",
    "----\n",
    "\n",
    "### Available Notebooks\n",
    "\n",
    "- [?????](notebooks/????.ipynb)\n",
    "- [?????](notebooks/????.ipynb)\n",
    "- [?????](notebooks/????.ipynb)\n",
    "- [?????](notebooks/????.ipynb)\n"
   ]
  }
 ],
 "metadata": {
  "kernelspec": {
   "display_name": "Python 3",
   "language": "python",
   "name": "python3"
  },
  "language_info": {
   "codemirror_mode": {
    "name": "ipython",
    "version": 3
   },
   "file_extension": ".py",
   "mimetype": "text/x-python",
   "name": "python",
   "nbconvert_exporter": "python",
   "pygments_lexer": "ipython3",
   "version": "3.7.8"
  }
 },
 "nbformat": 4,
 "nbformat_minor": 4
}
