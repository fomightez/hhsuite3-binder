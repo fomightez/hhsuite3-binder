{
 "cells": [
  {
   "cell_type": "markdown",
   "metadata": {},
   "source": [
    "# Practical use of HH-suite3 on the command line in Jupyter via MyBinder.org: Basics\n",
    "\n",
    "Run this in sessions launched from [my HH-suite3-binder repo](https://github.com/fomightez/hhsuite3-binder) because the software is already installed.   \n",
    "This is the first notebook in my series of notebooks convering use if HH-suite3 software in conjunction with Jupyter and snakemake.\n",
    "\n",
    "Frankly, it just really shows the HH-suite3 items are there and can work on this remote instance; however, these free machines are under-powered for much of real HH-suite3 work. You can use this less powered system downstream for making sense of your HH-suite3 work.  For more how you'd take advantage of the Jupyter environment to use HH-suite3 results, see the next notebooks in the series.\n",
    "\n",
    "-----\n",
    "\n",
    "<div class=\"alert alert-block alert-warning\">\n",
    "<p>If you haven't used one of these notebooks before, they're basically web pages in which you can write, edit, and run live code. They're meant to encourage experimentation, so don't feel nervous. Just try running a few cells and see what happens!.</p>\n",
    "\n",
    "<p>\n",
    "    Some tips:\n",
    "    <ul>\n",
    "        <li>Code cells have boxes around them. When you hover over them an <i class=\"fa-step-forward fa\"></i> icon appears.</li>\n",
    "        <li>To run a code cell either click the <i class=\"fa-step-forward fa\"></i> icon, or click on the cell and then hit <b>Shift+Enter</b>. The <b>Shift+Enter</b> combo will also move you to the next cell, so it's a quick way to work through the notebook.</li>\n",
    "        <li>While a cell is running a <b>*</b> appears in the square brackets next to the cell. Once the cell has finished running the asterix will be replaced with a number.</li>\n",
    "        <li>In most cases you'll want to start from the top of notebook and work your way down running each cell in turn. Later cells might depend on the results of earlier ones.</li>\n",
    "        <li>To edit a code cell, just click on it and type stuff. Remember to run the cell once you've finished editing.</li>\n",
    "    </ul>\n",
    "</p>\n",
    "</div>\n",
    "\n",
    "----\n",
    "\n"
   ]
  },
  {
   "cell_type": "markdown",
   "metadata": {},
   "source": [
    "### General Usage"
   ]
  },
  {
   "cell_type": "markdown",
   "metadata": {},
   "source": [
    "HH-suite3 software is command line software. It is already installed and ready to use here. \n",
    "\n",
    "To run command line software inside a notebook, you preface the commands with an exclamation point. After the exclamation point you write the rest as if you were working on the command line in your typical terminal. \n",
    "\n",
    "This will illustrate printing the usage from a few of the programs that come installed by HH-suite3. Similar things can be found [in the HH-suite3 documentation from the Söding laboratory under 'Summary of command-line parameters'](https://github.com/soedinglab/hh-suite/wiki#summary-of-command-line-parameters) albeit in static form. The HH-suite3 programs seems to print the usage if you just enter the commands with no arguments or options."
   ]
  },
  {
   "cell_type": "code",
   "execution_count": 3,
   "metadata": {},
   "outputs": [
    {
     "name": "stdout",
     "output_type": "stream",
     "text": [
      "HHblits 3.3.0:\n",
      "HMM-HMM-based lightning-fast iterative sequence search\n",
      "HHblits is a sensitive, general-purpose, iterative sequence search tool that represents\n",
      "both query and database sequences by HMMs. You can search HHblits databases starting\n",
      "with a single query sequence, a multiple sequence alignment (MSA), or an HMM. HHblits\n",
      "prints out a ranked list of database HMMs/MSAs and can also generate an MSA by merging\n",
      "the significant database HMMs/MSAs onto the query MSA.\n",
      "\n",
      "Steinegger M, Meier M, Mirdita M, Vöhringer H, Haunsberger S J, and Söding J (2019)\n",
      "HH-suite3 for fast remote homology detection and deep protein annotation.\n",
      "BMC Bioinformatics, doi:10.1186/s12859-019-3019-7\n",
      "(c) The HH-suite development team\n",
      "\n",
      "Usage: hhblits -i query [options] \n",
      " -i <file>      input/query: single sequence or multiple sequence alignment (MSA)\n",
      "                in a3m, a2m, or FASTA format, or HMM in hhm format\n",
      "\n",
      "Options:                                                                        \n",
      " -d <name>      database name (e.g. uniprot20_29Feb2012)                        \n",
      "                Multiple databases may be specified with '-d <db1> -d <db2> ...'\n",
      " -n     [1,8]   number of iterations (default=2)                               \n",
      " -e     [0,1]   E-value cutoff for inclusion in result alignment (def=0.001)       \n",
      "\n",
      "Input alignment format:                                                       \n",
      " -M a2m         use A2M/A3M (default): upper case = Match; lower case = Insert;\n",
      "               ' -' = Delete; '.' = gaps aligned to inserts (may be omitted)   \n",
      " -M first       use FASTA: columns with residue in 1st sequence are match states\n",
      " -M [0,100]     use FASTA: columns with fewer than X% gaps are match states   \n",
      " -tags/-notags  do NOT / do neutralize His-, C-myc-, FLAG-tags, and trypsin \n",
      "                recognition sequence to background distribution (def=-notags)  \n",
      "\n",
      "Output options: \n",
      " -o <file>      write results in standard format to file (default=<infile.hhr>)\n",
      " -oa3m <file>   write result MSA with significant matches in a3m format\n",
      "                Analogous for -opsi and -ohhm\n",
      " -oalis <name>  write MSAs in A3M format after each iteration\n",
      " -blasttab <name> write result in tabular BLAST format (compatible to -m 8 or -outfmt 6 output)\n",
      "                  1      2      3           4         5        6      8    9      10   11   12\n",
      "                  'query target #match/tLen #mismatch #gapOpen qstart qend tstart tend eval score'\n",
      " -add_cons      generate consensus sequence as master sequence of query MSA (default=don't)\n",
      " -hide_cons     don't show consensus sequence in alignments (default=show)     \n",
      " -hide_pred     don't show predicted 2ndary structure in alignments (default=show)\n",
      " -hide_dssp     don't show DSSP 2ndary structure in alignments (default=show)  \n",
      " -show_ssconf   show confidences for predicted 2ndary structure in alignments\n",
      "Filter options applied to query MSA, database MSAs, and result MSA              \n",
      " -all           show all sequences in result MSA; do not filter result MSA      \n",
      " -interim_filter NONE|FULL  \n",
      "                filter sequences of query MSA during merging to avoid early stop (default: FULL)\n",
      "                  NONE: disables the intermediate filter \n",
      "                  FULL: if an early stop occurs compare filter seqs in an all vs. all comparison\n",
      " -id   [0,100]  maximum pairwise sequence identity (def=90)\n",
      " -diff [0,inf[  filter MSAs by selecting most diverse set of sequences, keeping \n",
      "                at least this many seqs in each MSA block of length 50 \n",
      "                Zero and non-numerical values turn off the filtering. (def=1000) \n",
      " -cov  [0,100]  minimum coverage with master sequence (%) (def=0)             \n",
      " -qid  [0,100]  minimum sequence identity with master sequence (%) (def=0)    \n",
      " -qsc  [0,100]  minimum score per column with master sequence (default=-20.0)    \n",
      " -neff [1,inf]  target diversity of multiple sequence alignment (default=off)   \n",
      " -mark          do not filter out sequences marked by \">@\"in their name line  \n",
      "\n",
      "HMM-HMM alignment options:                                                       \n",
      " -norealign           do NOT realign displayed hits with MAC algorithm (def=realign)   \n",
      " -realign_old_hits    realign hits from previous iterations                          \n",
      " -mact [0,1[          posterior prob threshold for MAC realignment controlling greedi- \n",
      "                      ness at alignment ends: 0:global >0.1:local (default=0.35)       \n",
      " -glob/-loc           use global/local alignment mode for searching/ranking (def=local)\n",
      "Other options:                                                                   \n",
      " -v <int>       verbose mode: 0:no screen output  1:only warings  2: verbose (def=2)\n",
      " -neffmax ]1,20] skip further search iterations when diversity Neff of query MSA \n",
      "                becomes larger than neffmax (default=20.0)\n",
      " -cpu <int>     number of CPUs to use (for shared memory SMPs) (default=2)      \n",
      "\n",
      "An extended list of options can be obtained by calling 'hhblits -h all'\n",
      "\n",
      "Examples:\n",
      "hhblits -i query.fas -o query.hhr -d ./uniclust30\n",
      "\n",
      "hhblits -i query.fas -o query.hhr -oa3m query.a3m -n 1 -d ./uniclust30\n",
      "\n",
      "Download databases from <http://wwwuser.gwdg.de/~compbiol/data/hhsuite/databases/hhsuite_dbs/>.\n",
      "- 19:36:27.266 ERROR: Input file is missing! (see -i)\n",
      "\n"
     ]
    }
   ],
   "source": [
    "!hhblits"
   ]
  },
  {
   "cell_type": "code",
   "execution_count": 4,
   "metadata": {},
   "outputs": [
    {
     "name": "stdout",
     "output_type": "stream",
     "text": [
      "HHsearch 3.3.0\n",
      "Search a database of HMMs with a query alignment or query HMM\n",
      "(c) The HH-suite development team\n",
      "Steinegger M, Meier M, Mirdita M, Vöhringer H, Haunsberger S J, and Söding J (2019)\n",
      "HH-suite3 for fast remote homology detection and deep protein annotation.\n",
      "BMC Bioinformatics, doi:10.1186/s12859-019-3019-7\n",
      "\n",
      "Usage: hhsearch -i query -d database [options]                       \n",
      " -i <file>      input/query multiple sequence alignment (a2m, a3m, FASTA) or HMM\n",
      "Options:                                                                        \n",
      " -d <name>      database name (e.g. uniprot20_29Feb2012)                        \n",
      "                Multiple databases may be specified with '-d <db1> -d <db2> ...'\n",
      " -e     [0,1]   E-value cutoff for inclusion in result alignment (def=0.001)       \n",
      "\n",
      "Input alignment format:                                                       \n",
      " -M a2m         use A2M/A3M (default): upper case = Match; lower case = Insert;\n",
      "               '-' = Delete; '.' = gaps aligned to inserts (may be omitted)   \n",
      " -M first       use FASTA: columns with residue in 1st sequence are match states\n",
      " -M [0,100]     use FASTA: columns with fewer than X% gaps are match states   \n",
      " -tags/-notags  do NOT / do neutralize His-, C-myc-, FLAG-tags, and trypsin \n",
      "                recognition sequence to background distribution (def=-notags)  \n",
      "\n",
      "Output options: \n",
      " -o <file>      write results in standard format to file (default=<infile.hhr>)\n",
      " -oa3m <file>   write result MSA with significant matches in a3m format\n",
      " -blasttab <name> write result in tabular BLAST format (compatible to -m 8 or -outfmt 6 output)\n",
      "                  1     2      3           4      5         6        7      8    9      10   11   12\n",
      "                  query target #match/tLen alnLen #mismatch #gapOpen qstart qend tstart tend eval score\n",
      " -add_cons      generate consensus sequence as master sequence of query MSA (default=don't)\n",
      " -hide_cons     don't show consensus sequence in alignments (default=show)     \n",
      " -hide_pred     don't show predicted 2ndary structure in alignments (default=show)\n",
      " -hide_dssp     don't show DSSP 2ndary structure in alignments (default=show)  \n",
      " -show_ssconf   show confidences for predicted 2ndary structure in alignments\n",
      "Filter options applied to query MSA, database MSAs, and result MSA              \n",
      " -all           show all sequences in result MSA; do not filter result MSA      \n",
      " -id   [0,100]  maximum pairwise sequence identity (def=90)\n",
      " -diff [0,inf[  filter MSAs by selecting most diverse set of sequences, keeping \n",
      "                at least this many seqs in each MSA block of length 50 \n",
      "                Zero and non-numerical values turn off the filtering. (def=100) \n",
      " -cov  [0,100]  minimum coverage with master sequence (%) (def=0)             \n",
      " -qid  [0,100]  minimum sequence identity with master sequence (%) (def=0)    \n",
      " -qsc  [0,100]  minimum score per column with master sequence (default=-20.0)    \n",
      " -neff [1,inf]  target diversity of multiple sequence alignment (default=off)   \n",
      " -mark          do not filter out sequences marked by \">@\"in their name line  \n",
      "\n",
      "HMM-HMM alignment options:                                                       \n",
      " -norealign          do NOT realign displayed hits with MAC algorithm (def=realign)   \n",
      " -ovlp <int>         banded alignment: forbid <ovlp> largest diagonals |i-j| of DP matrix (def=0)\n",
      " -mact [0,1[         posterior prob threshold for MAC realignment controlling greedi- \n",
      "                     ness at alignment ends: 0:global >0.1:local (default=0.35)       \n",
      " -glob/-loc          use global/local alignment mode for searching/ranking (def=local)\n",
      "Other options:                                                                   \n",
      " -v <int>       verbose mode: 0:no screen output  1:only warnings  2: verbose (def=2)\n",
      " -cpu <int>     number of CPUs to use (for shared memory SMPs) (default=2)      \n",
      "\n",
      "An extended list of options can be obtained by calling 'hhblits -h all'\n",
      "\n",
      "Example: hhsearch -i a.1.1.1.a3m -d scop70_1.71\n",
      "\n",
      "Download databases from <http://wwwuser.gwdg.de/~compbiol/data/hhsuite/databases/hhsuite_dbs/>.\n",
      "- 19:36:33.377 ERROR: Database is missing (see -d)!\n",
      "\n"
     ]
    }
   ],
   "source": [
    "!hhsearch"
   ]
  },
  {
   "cell_type": "code",
   "execution_count": 6,
   "metadata": {},
   "outputs": [
    {
     "name": "stdout",
     "output_type": "stream",
     "text": [
      "HHmake 3.3.0\n",
      "Build an HMM from an input alignment in A2M, A3M, or FASTA format,\n",
      "or convert between HMMER format (.hmm) and HHsearch format (.hhm).\n",
      "Steinegger M, Meier M, Mirdita M, Vöhringer H, Haunsberger S J, and Söding J (2019)\n",
      "HH-suite3 for fast remote homology detection and deep protein annotation.\n",
      "BMC Bioinformatics, doi:10.1186/s12859-019-3019-7\n",
      "(c) The HH-suite development team\n",
      "\n",
      "Usage: hhmake -i <file> -o <file> [options]\n",
      " -i <file>     query alignment (A2M, A3M, or FASTA), or query HMM         \n",
      "\n",
      "Output options:                                                           \n",
      " -o <file>     HMM file to be written to  (default=<infile.hhm>)          \n",
      " -a <file>     HMM file to be appended to                                 \n",
      " -v <int>      verbose mode: 0:no screen output  1:only warings  2: verbose\n",
      " -seq <int>    max. number of query/template sequences displayed (def=10)  \n",
      "               Beware of overflows! All these sequences are stored in memory.\n",
      " -add_cons     make consensus sequence master sequence of query MSA \n",
      " -name <name>  use this name for HMM (default: use name of first sequence)   \n",
      "\n",
      "Filter query multiple sequence alignment                                     \n",
      " -id   [0,100]  maximum pairwise sequence identity (%) (def=90)   \n",
      " -diff [0,inf[  filter MSA by selecting most diverse set of sequences, keeping \n",
      "                at least this many seqs in each MSA block of length 50 (def=100) \n",
      " -cov  [0,100]  minimum coverage with query (%) (def=0) \n",
      " -qid  [0,100]  minimum sequence identity with query (%) (def=0) \n",
      " -qsc  [0,100]  minimum score per column with query  (def=-20.0)\n",
      " -neff [1,inf]  target diversity of alignment (default=off)\n",
      "\n",
      "Input alignment format:                                                    \n",
      " -M a2m        use A2M/A3M (default): upper case = Match; lower case = Insert;\n",
      "               '-' = Delete; '.' = gaps aligned to inserts (may be omitted)   \n",
      " -M first      use FASTA: columns with residue in 1st sequence are match states\n",
      " -M [0,100]    use FASTA: columns with fewer than X% gaps are match states   \n",
      "\n",
      "Example: hhmake -i test.a3m -o stdout \n",
      "\n",
      "- 19:37:56.314 ERROR: Input file is missing\n",
      "\n"
     ]
    }
   ],
   "source": [
    "!hhmake"
   ]
  },
  {
   "cell_type": "markdown",
   "metadata": {},
   "source": [
    "The documentation lists a few scripts, such as `hhmakemodel.py` and `hhsuitedb.py `, that you cannot just call the way you call the other software. These are present and to run them you just need to know where they are located and then point at them with the absolute path. \n",
    "\n",
    "Let's locate `hhmakemodel.py` here:  \n",
    "(Note that the use of `%bash` cell magic is another way to send commands to the shell and is used here to make multiple lines of commands and avoid changing the working directory more than temporary.)"
   ]
  },
  {
   "cell_type": "code",
   "execution_count": 1,
   "metadata": {},
   "outputs": [
    {
     "name": "stdout",
     "output_type": "stream",
     "text": [
      "./srv/conda/envs/notebook/scripts/hhmakemodel.pl\n",
      "./srv/conda/envs/notebook/scripts/hhmakemodel.py\n",
      "./srv/conda/envs/notebook/scripts/__pycache__/hhmakemodel.cpython-37.pyc\n"
     ]
    },
    {
     "name": "stderr",
     "output_type": "stream",
     "text": [
      "find: ‘./var/cache/ldconfig’: Permission denied\n",
      "find: ‘./var/cache/apt/archives/partial’: Permission denied\n",
      "find: ‘./proc/tty/driver’: Permission denied\n",
      "find: ‘./root’: Permission denied\n",
      "find: ‘./etc/ssl/private’: Permission denied\n"
     ]
    },
    {
     "ename": "CalledProcessError",
     "evalue": "Command 'b'cd ../../..\\nfind . -type f -name \"hhmakemodel.*\"\\n'' returned non-zero exit status 1.",
     "output_type": "error",
     "traceback": [
      "\u001b[0;31m---------------------------------------------------------------------------\u001b[0m",
      "\u001b[0;31mCalledProcessError\u001b[0m                        Traceback (most recent call last)",
      "\u001b[0;32m<ipython-input-1-f36dce92f470>\u001b[0m in \u001b[0;36m<module>\u001b[0;34m\u001b[0m\n\u001b[0;32m----> 1\u001b[0;31m \u001b[0mget_ipython\u001b[0m\u001b[0;34m(\u001b[0m\u001b[0;34m)\u001b[0m\u001b[0;34m.\u001b[0m\u001b[0mrun_cell_magic\u001b[0m\u001b[0;34m(\u001b[0m\u001b[0;34m'bash'\u001b[0m\u001b[0;34m,\u001b[0m \u001b[0;34m''\u001b[0m\u001b[0;34m,\u001b[0m \u001b[0;34m'cd ../../..\\nfind . -type f -name \"hhmakemodel.*\"\\n'\u001b[0m\u001b[0;34m)\u001b[0m\u001b[0;34m\u001b[0m\u001b[0;34m\u001b[0m\u001b[0m\n\u001b[0m",
      "\u001b[0;32m/srv/conda/envs/notebook/lib/python3.7/site-packages/IPython/core/interactiveshell.py\u001b[0m in \u001b[0;36mrun_cell_magic\u001b[0;34m(self, magic_name, line, cell)\u001b[0m\n\u001b[1;32m   2389\u001b[0m             \u001b[0;32mwith\u001b[0m \u001b[0mself\u001b[0m\u001b[0;34m.\u001b[0m\u001b[0mbuiltin_trap\u001b[0m\u001b[0;34m:\u001b[0m\u001b[0;34m\u001b[0m\u001b[0;34m\u001b[0m\u001b[0m\n\u001b[1;32m   2390\u001b[0m                 \u001b[0margs\u001b[0m \u001b[0;34m=\u001b[0m \u001b[0;34m(\u001b[0m\u001b[0mmagic_arg_s\u001b[0m\u001b[0;34m,\u001b[0m \u001b[0mcell\u001b[0m\u001b[0;34m)\u001b[0m\u001b[0;34m\u001b[0m\u001b[0;34m\u001b[0m\u001b[0m\n\u001b[0;32m-> 2391\u001b[0;31m                 \u001b[0mresult\u001b[0m \u001b[0;34m=\u001b[0m \u001b[0mfn\u001b[0m\u001b[0;34m(\u001b[0m\u001b[0;34m*\u001b[0m\u001b[0margs\u001b[0m\u001b[0;34m,\u001b[0m \u001b[0;34m**\u001b[0m\u001b[0mkwargs\u001b[0m\u001b[0;34m)\u001b[0m\u001b[0;34m\u001b[0m\u001b[0;34m\u001b[0m\u001b[0m\n\u001b[0m\u001b[1;32m   2392\u001b[0m             \u001b[0;32mreturn\u001b[0m \u001b[0mresult\u001b[0m\u001b[0;34m\u001b[0m\u001b[0;34m\u001b[0m\u001b[0m\n\u001b[1;32m   2393\u001b[0m \u001b[0;34m\u001b[0m\u001b[0m\n",
      "\u001b[0;32m/srv/conda/envs/notebook/lib/python3.7/site-packages/IPython/core/magics/script.py\u001b[0m in \u001b[0;36mnamed_script_magic\u001b[0;34m(line, cell)\u001b[0m\n\u001b[1;32m    140\u001b[0m             \u001b[0;32melse\u001b[0m\u001b[0;34m:\u001b[0m\u001b[0;34m\u001b[0m\u001b[0;34m\u001b[0m\u001b[0m\n\u001b[1;32m    141\u001b[0m                 \u001b[0mline\u001b[0m \u001b[0;34m=\u001b[0m \u001b[0mscript\u001b[0m\u001b[0;34m\u001b[0m\u001b[0;34m\u001b[0m\u001b[0m\n\u001b[0;32m--> 142\u001b[0;31m             \u001b[0;32mreturn\u001b[0m \u001b[0mself\u001b[0m\u001b[0;34m.\u001b[0m\u001b[0mshebang\u001b[0m\u001b[0;34m(\u001b[0m\u001b[0mline\u001b[0m\u001b[0;34m,\u001b[0m \u001b[0mcell\u001b[0m\u001b[0;34m)\u001b[0m\u001b[0;34m\u001b[0m\u001b[0;34m\u001b[0m\u001b[0m\n\u001b[0m\u001b[1;32m    143\u001b[0m \u001b[0;34m\u001b[0m\u001b[0m\n\u001b[1;32m    144\u001b[0m         \u001b[0;31m# write a basic docstring:\u001b[0m\u001b[0;34m\u001b[0m\u001b[0;34m\u001b[0m\u001b[0;34m\u001b[0m\u001b[0m\n",
      "\u001b[0;32m<decorator-gen-103>\u001b[0m in \u001b[0;36mshebang\u001b[0;34m(self, line, cell)\u001b[0m\n",
      "\u001b[0;32m/srv/conda/envs/notebook/lib/python3.7/site-packages/IPython/core/magic.py\u001b[0m in \u001b[0;36m<lambda>\u001b[0;34m(f, *a, **k)\u001b[0m\n\u001b[1;32m    185\u001b[0m     \u001b[0;31m# but it's overkill for just that one bit of state.\u001b[0m\u001b[0;34m\u001b[0m\u001b[0;34m\u001b[0m\u001b[0;34m\u001b[0m\u001b[0m\n\u001b[1;32m    186\u001b[0m     \u001b[0;32mdef\u001b[0m \u001b[0mmagic_deco\u001b[0m\u001b[0;34m(\u001b[0m\u001b[0marg\u001b[0m\u001b[0;34m)\u001b[0m\u001b[0;34m:\u001b[0m\u001b[0;34m\u001b[0m\u001b[0;34m\u001b[0m\u001b[0m\n\u001b[0;32m--> 187\u001b[0;31m         \u001b[0mcall\u001b[0m \u001b[0;34m=\u001b[0m \u001b[0;32mlambda\u001b[0m \u001b[0mf\u001b[0m\u001b[0;34m,\u001b[0m \u001b[0;34m*\u001b[0m\u001b[0ma\u001b[0m\u001b[0;34m,\u001b[0m \u001b[0;34m**\u001b[0m\u001b[0mk\u001b[0m\u001b[0;34m:\u001b[0m \u001b[0mf\u001b[0m\u001b[0;34m(\u001b[0m\u001b[0;34m*\u001b[0m\u001b[0ma\u001b[0m\u001b[0;34m,\u001b[0m \u001b[0;34m**\u001b[0m\u001b[0mk\u001b[0m\u001b[0;34m)\u001b[0m\u001b[0;34m\u001b[0m\u001b[0;34m\u001b[0m\u001b[0m\n\u001b[0m\u001b[1;32m    188\u001b[0m \u001b[0;34m\u001b[0m\u001b[0m\n\u001b[1;32m    189\u001b[0m         \u001b[0;32mif\u001b[0m \u001b[0mcallable\u001b[0m\u001b[0;34m(\u001b[0m\u001b[0marg\u001b[0m\u001b[0;34m)\u001b[0m\u001b[0;34m:\u001b[0m\u001b[0;34m\u001b[0m\u001b[0;34m\u001b[0m\u001b[0m\n",
      "\u001b[0;32m/srv/conda/envs/notebook/lib/python3.7/site-packages/IPython/core/magics/script.py\u001b[0m in \u001b[0;36mshebang\u001b[0;34m(self, line, cell)\u001b[0m\n\u001b[1;32m    243\u001b[0m             \u001b[0msys\u001b[0m\u001b[0;34m.\u001b[0m\u001b[0mstderr\u001b[0m\u001b[0;34m.\u001b[0m\u001b[0mflush\u001b[0m\u001b[0;34m(\u001b[0m\u001b[0;34m)\u001b[0m\u001b[0;34m\u001b[0m\u001b[0;34m\u001b[0m\u001b[0m\n\u001b[1;32m    244\u001b[0m         \u001b[0;32mif\u001b[0m \u001b[0margs\u001b[0m\u001b[0;34m.\u001b[0m\u001b[0mraise_error\u001b[0m \u001b[0;32mand\u001b[0m \u001b[0mp\u001b[0m\u001b[0;34m.\u001b[0m\u001b[0mreturncode\u001b[0m\u001b[0;34m!=\u001b[0m\u001b[0;36m0\u001b[0m\u001b[0;34m:\u001b[0m\u001b[0;34m\u001b[0m\u001b[0;34m\u001b[0m\u001b[0m\n\u001b[0;32m--> 245\u001b[0;31m             \u001b[0;32mraise\u001b[0m \u001b[0mCalledProcessError\u001b[0m\u001b[0;34m(\u001b[0m\u001b[0mp\u001b[0m\u001b[0;34m.\u001b[0m\u001b[0mreturncode\u001b[0m\u001b[0;34m,\u001b[0m \u001b[0mcell\u001b[0m\u001b[0;34m,\u001b[0m \u001b[0moutput\u001b[0m\u001b[0;34m=\u001b[0m\u001b[0mout\u001b[0m\u001b[0;34m,\u001b[0m \u001b[0mstderr\u001b[0m\u001b[0;34m=\u001b[0m\u001b[0merr\u001b[0m\u001b[0;34m)\u001b[0m\u001b[0;34m\u001b[0m\u001b[0;34m\u001b[0m\u001b[0m\n\u001b[0m\u001b[1;32m    246\u001b[0m \u001b[0;34m\u001b[0m\u001b[0m\n\u001b[1;32m    247\u001b[0m     \u001b[0;32mdef\u001b[0m \u001b[0m_run_script\u001b[0m\u001b[0;34m(\u001b[0m\u001b[0mself\u001b[0m\u001b[0;34m,\u001b[0m \u001b[0mp\u001b[0m\u001b[0;34m,\u001b[0m \u001b[0mcell\u001b[0m\u001b[0;34m,\u001b[0m \u001b[0mto_close\u001b[0m\u001b[0;34m)\u001b[0m\u001b[0;34m:\u001b[0m\u001b[0;34m\u001b[0m\u001b[0;34m\u001b[0m\u001b[0m\n",
      "\u001b[0;31mCalledProcessError\u001b[0m: Command 'b'cd ../../..\\nfind . -type f -name \"hhmakemodel.*\"\\n'' returned non-zero exit status 1."
     ]
    }
   ],
   "source": [
    "%%bash\n",
    "cd ../../..\n",
    "find . -type f -name \"hhmakemodel.*\""
   ]
  },
  {
   "cell_type": "markdown",
   "metadata": {},
   "source": [
    "Despite the permission errors, we can see the location of the scripts.\n",
    "\n",
    "Now we can use that to run it, like so:  \n",
    "(note this required the addition of the pdbx library [provided by the Söding lab](https://github.com/soedinglab/pdbx) using `postBuild` and `apt.txt` for those interested.)"
   ]
  },
  {
   "cell_type": "code",
   "execution_count": 3,
   "metadata": {},
   "outputs": [
    {
     "name": "stderr",
     "output_type": "stream",
     "text": [
      "usage: hhmakemodel.py [-h] [-v] [-m INT [INT ...]] [-e FLOAT] [-r FLOAT] [-c]\n",
      "                      FILE DIR FILE DIR\n",
      "hhmakemodel.py: error: the following arguments are required: FILE, DIR, FILE, DIR\n"
     ]
    },
    {
     "ename": "SystemExit",
     "evalue": "2",
     "output_type": "error",
     "traceback": [
      "An exception has occurred, use %tb to see the full traceback.\n",
      "\u001b[0;31mSystemExit\u001b[0m\u001b[0;31m:\u001b[0m 2\n"
     ]
    }
   ],
   "source": [
    "%run /srv/conda/envs/notebook/scripts/hhmakemodel.py"
   ]
  },
  {
   "cell_type": "markdown",
   "metadata": {},
   "source": [
    "We see the usage.\n",
    "\n",
    "Similarly for another script in the suite."
   ]
  },
  {
   "cell_type": "code",
   "execution_count": 6,
   "metadata": {},
   "outputs": [
    {
     "name": "stdout",
     "output_type": "stream",
     "text": [
      "Usage: hhsuitedb.py [options]\n",
      "\n",
      "Options:\n",
      "  -h, --help       show this help message and exit\n",
      "  --ia3m=<GLOB>    Glob for a3m files\n",
      "  --ics219=<GLOB>  Glob for cs219 files\n",
      "  --ihhm=<GLOB>    Glob for hhm files\n",
      "  -o FILE          Output hhsuite database basename\n",
      "  --cpu=INT        Number of threads that shall used\n",
      "  --force          Try to fix problems with the database\n"
     ]
    },
    {
     "name": "stderr",
     "output_type": "stream",
     "text": [
      "Please use --cpu!\n"
     ]
    },
    {
     "ename": "SystemExit",
     "evalue": "1",
     "output_type": "error",
     "traceback": [
      "An exception has occurred, use %tb to see the full traceback.\n",
      "\u001b[0;31mSystemExit\u001b[0m\u001b[0;31m:\u001b[0m 1\n"
     ]
    }
   ],
   "source": [
    "%run /srv/conda/envs/notebook/scripts/hhsuitedb.py"
   ]
  },
  {
   "cell_type": "markdown",
   "metadata": {},
   "source": [
    "## Stepping through intial parts of [Example: Comparative protein structure modeling using HHblits and MODELLER](https://github.com/soedinglab/hh-suite/wiki#example-comparative-protein-structure-modeling-using-hhblits-and-modeller) \n",
    "\n",
    "We'll deviate from that somewhat because some steps are difficult to do with the limited resources provided via MyBinder.org. However, overall the approach will be the same, we'll just substitute some of the databases and do the initial query against the Uniclust30 database using the `HHblits` webserver the HH-suite3 authors provide.\n",
    "\n",
    "That section is found under 'Brief tutorial to HHsuite tools' in the [HH-suite3 wiki Table Of Contents](https://github.com/soedinglab/hh-suite/wiki#table-of-contents)"
   ]
  },
  {
   "cell_type": "code",
   "execution_count": 2,
   "metadata": {},
   "outputs": [
    {
     "name": "stdout",
     "output_type": "stream",
     "text": [
      "Writing 's' (str) to file 'query.seq'.\n"
     ]
    }
   ],
   "source": [
    "s='''>TvLDH\n",
    "MSEAAHVLITGAAGQIGYILSHWIASGELYGDRQVYLHLLDIPPAMNRLTALTMELEDCAFPHLAGFVATTDP\n",
    "KAAFKDIDCAFLVASMPLKPGQVRADLISSNSVIFKNTGEYLSKWAKPSVKVLVIGNPDNTNCEIAMLHAKNL\n",
    "KPENFSSLSMLDQNRAYYEVASKLGVDVKDVHDIIVWGNHGESMVADLTQATFTKEGKTQKVVDVLDHDYVFD\n",
    "TFFKKIGHRAWDILEHRGFTSAASPTKAAIQHMKAWLFGTAPGEVLSMGIPVPEGNPYGIKPGVVFSFPCNVD\n",
    "KEGKIHVVEGFKVNDWLREKLDFTEKDLFHEKEIALNHLAQ'''\n",
    "%store s >query.seq"
   ]
  },
  {
   "cell_type": "markdown",
   "metadata": {},
   "source": [
    "To make things easy, the output file from the first step is already present in this session as `query.a3m`.  \n",
    "Below describes two ways you could go about generating it yourself:"
   ]
  },
  {
   "cell_type": "markdown",
   "metadata": {},
   "source": [
    "- 1. To generate ouput as they do in the first in the tutorial without downloading the huge uniclust30 datbase you can use the webserver. Go to https://toolkit.tuebingen.mpg.de/tools/hhblits and paste in the sequence below into the 'Input' window and after pasting, hit 'Submit' in the bottom right.\n",
    "\n",
    "```text\n",
    ">TvLDH\n",
    "MSEAAHVLITGAAGQIGYILSHWIASGELYGDRQVYLHLLDIPPAMNRLTALTMELEDCAFPHLAGFVATTDP\n",
    "KAAFKDIDCAFLVASMPLKPGQVRADLISSNSVIFKNTGEYLSKWAKPSVKVLVIGNPDNTNCEIAMLHAKNL\n",
    "KPENFSSLSMLDQNRAYYEVASKLGVDVKDVHDIIVWGNHGESMVADLTQATFTKEGKTQKVVDVLDHDYVFD\n",
    "TFFKKIGHRAWDILEHRGFTSAASPTKAAIQHMKAWLFGTAPGEVLSMGIPVPEGNPYGIKPGVVFSFPCNVD\n",
    "KEGKIHVVEGFKVNDWLREKLDFTEKDLFHEKEIALNHLAQ\n",
    "```\n",
    "\n",
    "That job will run and at the conclusion, you can collect the alignments, a MSA in a3m format, by clicking on the 'Query MSA' tab and then clicking on 'Download Full A3M'. Name the file as you `query.a3m` to match the tutorial and save the file to your local machine.  \n",
    "(The one provided specifically came from using the uniclust30 database from `UniRef30_2020_06`.)\n",
    "\n",
    "- 2. To generate the output using the following command on the command line as they instruct in the tutorial, you'd download the latest uniclust30 database, by going [here](http://wwwuser.gwdg.de/~compbiol/data/hhsuite/databases/hhsuite_dbs/) and selecting `uniclist-latest` to get taken to the current most recent version available from the HH-suite3 authors \n",
    "\n",
    "```bash\n",
    "hhblits -i query.seq -d databases/uniclust30_2020_06/uniclust30_2020_06 -oa3m query.a3m  -cpu 4 -n 1\n",
    "```"
   ]
  },
  {
   "cell_type": "code",
   "execution_count": null,
   "metadata": {},
   "outputs": [],
   "source": [
    "- 2. "
   ]
  },
  {
   "cell_type": "markdown",
   "metadata": {},
   "source": [
    "```text\n",
    ">TvLDH\n",
    "MSEAAHVLITGAAGQIGYILSHWIASGELYGDRQVYLHLLDIPPAMNRLTALTMELEDCAFPHLAGFVATTDP\n",
    "KAAFKDIDCAFLVASMPLKPGQVRADLISSNSVIFKNTGEYLSKWAKPSVKVLVIGNPDNTNCEIAMLHAKNL\n",
    "KPENFSSLSMLDQNRAYYEVASKLGVDVKDVHDIIVWGNHGESMVADLTQATFTKEGKTQKVVDVLDHDYVFD\n",
    "TFFKKIGHRAWDILEHRGFTSAASPTKAAIQHMKAWLFGTAPGEVLSMGIPVPEGNPYGIKPGVVFSFPCNVD\n",
    "KEGKIHVVEGFKVNDWLREKLDFTEKDLFHEKEIALNHLAQ\n",
    "```"
   ]
  },
  {
   "cell_type": "markdown",
   "metadata": {},
   "source": [
    "That job will run and at the conclusion, you can collect the alignments, a MSA in a3m format, by clicking on the 'Query MSA' tab and then clicking on 'Download Full A3M'. Name the file as you `query.a3m` to match the tutorial and save the file to your local machine."
   ]
  },
  {
   "cell_type": "code",
   "execution_count": null,
   "metadata": {},
   "outputs": [],
   "source": []
  },
  {
   "cell_type": "code",
   "execution_count": 9,
   "metadata": {},
   "outputs": [
    {
     "name": "stdout",
     "output_type": "stream",
     "text": [
      "total 3.5G\n",
      "drwxr-xr-x 1 jovyan jovyan 4.0K Dec  9 20:36  .\n",
      "drwxr-xr-x 1 root   root   4.0K Nov 16 07:52  ..\n",
      "-rw-r--r-- 1 jovyan jovyan  220 Apr  4  2018  .bash_logout\n",
      "-rw-r--r-- 1 jovyan jovyan 3.7K Apr  4  2018  .bashrc\n",
      "drwxr-xr-x 1 jovyan jovyan 4.0K Dec  9 16:55  .cache\n",
      "drwxrwsr-x 2 jovyan jovyan 4.0K Nov 17 20:30  .conda\n",
      "drwx------ 1 jovyan jovyan 4.0K Nov 16 07:57  .config\n",
      "-rw-r--r-- 1 jovyan root   6.4K Dec  9 20:36 'develop hhsuite binder content.ipynb'\n",
      "drwxr-xr-x 2 jovyan jovyan 4.0K Nov 17 20:30  .empty\n",
      "-rw-r--r-- 1 jovyan jovyan  399 Nov 17 21:07  environment.yml\n",
      "drwxr-xr-x 8 jovyan jovyan 4.0K Nov 17 21:07  .git\n",
      "-rw-r--r-- 1 jovyan jovyan  278 Nov 17 21:07  .gitignore\n",
      "-rw-r--r-- 1 jovyan jovyan 2.1K Dec  9 20:33  index.ipynb\n",
      "drwxr-xr-x 2 jovyan root   4.0K Dec  9 17:55  .ipynb_checkpoints\n",
      "drwxr-xr-x 5 jovyan root   4.0K Dec  9 16:55  .ipython\n",
      "drwxr-xr-x 3 jovyan root   4.0K Dec  9 16:56  .jupyter\n",
      "-rw-r--r-- 1 jovyan jovyan 1.1K Nov 17 21:07  LICENSE\n",
      "drwxr-xr-x 3 jovyan root   4.0K Dec  9 16:55  .local\n",
      "-rw------- 1 jovyan root    319 Mar  1  2017  md5sum\n",
      "drwxr-xr-x 3 jovyan root   4.0K Dec  9 16:57  .npm\n",
      "-rw-r--r-- 1 jovyan jovyan  807 Apr  4  2018  .profile\n",
      "-rw-r--r-- 1 jovyan root    345 Dec  9 17:56  query.seq\n",
      "-rw-r--r-- 1 jovyan jovyan 4.8K Nov 17 21:07  README.md\n",
      "-rw-r--r-- 1 jovyan root   382M Dec  9 18:26  scop40_01Mar17.tgz\n",
      "-rw------- 1 jovyan root   853M Mar  1  2017  scop40_a3m.ffdata\n",
      "-rw------- 1 jovyan root    68K Mar  1  2017  scop40_a3m.ffindex\n",
      "-rw------- 1 jovyan root   390K Mar  1  2017  scop40_cs219.ffdata\n",
      "-rw------- 1 jovyan root    51K Mar  1  2017  scop40_cs219.ffindex\n",
      "-rw------- 1 jovyan root    62M Mar  1  2017  scop40_hhm.ffdata\n",
      "-rw------- 1 jovyan root    63K Mar  1  2017  scop40_hhm.ffindex\n",
      "-rw-r--r-- 1 jovyan root   647M Dec  9 18:13  scop70_01Mar17.tgz\n",
      "-rw------- 1 jovyan root   1.5G Mar  1  2017  scop70_a3m.ffdata\n",
      "-rw------- 1 jovyan root   107K Mar  1  2017  scop70_a3m.ffindex\n",
      "-rw------- 1 jovyan root   654K Mar  1  2017  scop70_cs219.ffdata\n",
      "-rw------- 1 jovyan root    80K Mar  1  2017  scop70_cs219.ffindex\n",
      "-rw------- 1 jovyan root   104M Mar  1  2017  scop70_hhm.ffdata\n",
      "-rw------- 1 jovyan root    98K Mar  1  2017  scop70_hhm.ffindex\n",
      "-rw-r--r-- 1 jovyan root     72 Dec  9 16:56  Untitled.ipynb\n"
     ]
    }
   ],
   "source": [
    "!ls -lah"
   ]
  },
  {
   "cell_type": "code",
   "execution_count": 3,
   "metadata": {},
   "outputs": [
    {
     "name": "stdout",
     "output_type": "stream",
     "text": [
      "  % Total    % Received % Xferd  Average Speed   Time    Time     Time  Current\n",
      "                                 Dload  Upload   Total   Spent    Left  Speed\n",
      "100  646M  100  646M    0     0   652k      0  0:16:54  0:16:54 --:--:--  338k   0   155k      0  1:11:09  0:01:22  1:09:47  580k5 34.4M    0     0   280k      0  0:39:24  0:02:06  0:37:18  448k:32  0:17:20  610k176M    0     0   559k      0  0:19:44  0:05:23  0:14:21  969k 0     0   581k      0  0:18:59  0:05:39  0:13:20 1067kk   562k      0  0:19:37  0:09:18  0:10:19  294k   560k      0  0:19:40  0:09:21  0:10:19  240k  0:19:43  0:09:49  0:09:54  286k  0  0:18:20  0:12:05  0:06:15 1746k46M   86  561M    0     0   663k      0  0:16:38  0:14:27  0:02:11 1038k  0  0:16:51  0:16:23  0:00:28  782k\n"
     ]
    }
   ],
   "source": [
    "!curl -OL http://wwwuser.gwdg.de/~compbiol/data/hhsuite/databases/hhsuite_dbs/scop70_01Mar17.tgz"
   ]
  },
  {
   "cell_type": "code",
   "execution_count": 4,
   "metadata": {},
   "outputs": [],
   "source": [
    "!tar xzf scop70_01Mar17.tgz"
   ]
  },
  {
   "cell_type": "code",
   "execution_count": 5,
   "metadata": {},
   "outputs": [
    {
     "name": "stdout",
     "output_type": "stream",
     "text": [
      "  % Total    % Received % Xferd  Average Speed   Time    Time     Time  Current\n",
      "                                 Dload  Upload   Total   Spent    Left  Speed\n",
      "100  381M  100  381M    0     0   534k      0  0:12:09  0:12:09 --:--:--  543k 534k   0     0   438k      0  0:14:49  0:06:18  0:08:31  421k  0     0   525k      0  0:12:22  0:10:43  0:01:39  304k     0  0:12:22  0:10:58  0:01:24  615k 0  0:12:16  0:11:38  0:00:38  762k\n"
     ]
    }
   ],
   "source": [
    "!curl -OL http://wwwuser.gwdg.de/~compbiol/data/hhsuite/databases/hhsuite_dbs/scop40_01Mar17.tgz"
   ]
  },
  {
   "cell_type": "code",
   "execution_count": 6,
   "metadata": {},
   "outputs": [],
   "source": [
    "!tar xzf scop40_01Mar17.tgz"
   ]
  },
  {
   "cell_type": "code",
   "execution_count": 1,
   "metadata": {},
   "outputs": [
    {
     "name": "stdout",
     "output_type": "stream",
     "text": [
      "  % Total    % Received % Xferd  Average Speed   Time    Time     Time  Current\n",
      "                                 Dload  Upload   Total   Spent    Left  Speed\n",
      "  0 7166M    0 63.0M    0     0   855k      0  2:22:57  0:01:15  2:21:42 1378k^C\n"
     ]
    }
   ],
   "source": [
    "!curl -OL http://wwwuser.gwdg.de/~compbiol/data/hhsuite/databases/hhsuite_dbs/old-releases/pdb70_06Sep14.tar.gz"
   ]
  },
  {
   "cell_type": "code",
   "execution_count": 2,
   "metadata": {},
   "outputs": [
    {
     "name": "stdout",
     "output_type": "stream",
     "text": [
      "tar: Old option 'b' requires an argument.\n",
      "Try 'tar --help' or 'tar --usage' for more information.\n"
     ]
    }
   ],
   "source": [
    "!tar xzf pdb70_06Sep14.tar.gz"
   ]
  },
  {
   "cell_type": "code",
   "execution_count": 12,
   "metadata": {},
   "outputs": [
    {
     "name": "stdout",
     "output_type": "stream",
     "text": [
      "/\n"
     ]
    }
   ],
   "source": [
    "%cd ../.."
   ]
  },
  {
   "cell_type": "code",
   "execution_count": 13,
   "metadata": {},
   "outputs": [
    {
     "name": "stdout",
     "output_type": "stream",
     "text": [
      "find: ‘./root’: Permission denied\n",
      "find: ‘./proc/tty/driver’: Permission denied\n",
      "./srv/conda/envs/notebook/scripts/hhmakemodel.py\n",
      "./srv/conda/envs/notebook/scripts/__pycache__/hhmakemodel.cpython-37.pyc\n",
      "./srv/conda/envs/notebook/scripts/hhmakemodel.pl\n",
      "find: ‘./var/cache/ldconfig’: Permission denied\n",
      "find: ‘./var/cache/apt/archives/partial’: Permission denied\n",
      "find: ‘./etc/ssl/private’: Permission denied\n"
     ]
    }
   ],
   "source": [
    "!find . -type f -name \"hhmakemodel.*\""
   ]
  },
  {
   "cell_type": "code",
   "execution_count": null,
   "metadata": {},
   "outputs": [],
   "source": []
  },
  {
   "cell_type": "markdown",
   "metadata": {},
   "source": [
    "-----\n",
    "- [The MPI Bioinformatics Toolkit](https://toolkit.tuebingen.mpg.de/) also offers a web-based interface to HHblits where you can at present query [the Uniclust30 database](https://uniclust.mmseqs.com/). This is useful because that database is large, and so any options available to avoid having to obtain it and unpack it are welcome. The resulting query-template and query alignments can be visualized, downloaded, and forwarded to other tools in the 'Query Template MSA' and 'Query Alignment' tabs. Additionally, that output can then be used on the command line to make additional forms that can be used in searches. For example, under the 'Query Template MSA' and 'Query Alignment' tabs, you can select the `Download Full A3M`. That can then be used to directly make an HHM as shown under the seciton 'Generating a multiple sequence alignment using HHblits' [here](https://github.com/soedinglab/hh-suite/wiki#generating-a-multiple-sequence-alignment-using-hhblits) using `hhmake -i query.a3m -o query.hhm`. (Currently playing with https://toolkit.tuebingen.mpg.de/jobs/Sca190 to explore that.) However, though the MSAS in the `.a3m` format can actually be used by input by `hhblits` (see the `hhblits -i query.a3m -o results.hhr -d databases/pdb70 -cpu 4 -n 1` command under [here](https://github.com/soedinglab/hh-suite/wiki#example-comparative-protein-structure-modeling-using-hhblits-and-modeller)), and so I think the MSAs generated via the [The MPI Bioinformatics Toolkit](https://toolkit.tuebingen.mpg.de/) can be used to query a custom database directly. <==== NEED TO VERIFY ACTUALLY. However, bear in mind that it may **STILL** end up being much more practical to use the command line to go from sequence to a form that can be used to search against a custom database because the command line is able to scale to many more much easier than a web interface. \n",
    "\n",
    "\n",
    "I ALSO NEED TO CHECK WHAT HAPPENS IF YOU PASTE IN A MUTLI-SEQUENCE FASTA TO THE HHBLITS WEB INTERFACE??? ==> you cannot unless it is an alignment in fasta format it seems because you otherwise get a notive from hhpred about sequences need to be equal length.\n",
    "\n",
    "Of course the web interfaces are not as customizable or scaleable as the command line methods to be demonstrated here.\n",
    "-----\n"
   ]
  },
  {
   "cell_type": "code",
   "execution_count": null,
   "metadata": {},
   "outputs": [],
   "source": []
  },
  {
   "cell_type": "code",
   "execution_count": null,
   "metadata": {},
   "outputs": [
    {
     "name": "stdout",
     "output_type": "stream",
     "text": [
      ".\n",
      ".\n",
      ".\n"
     ]
    }
   ],
   "source": [
    "import time\n",
    "\n",
    "def executeSomething():\n",
    "    #code here\n",
    "    print ('.')\n",
    "    time.sleep(480) #60 seconds times 8 minutes\n",
    "\n",
    "while True:\n",
    "    executeSomething()"
   ]
  },
  {
   "cell_type": "code",
   "execution_count": null,
   "metadata": {},
   "outputs": [],
   "source": []
  },
  {
   "cell_type": "code",
   "execution_count": null,
   "metadata": {},
   "outputs": [],
   "source": []
  }
 ],
 "metadata": {
  "kernelspec": {
   "display_name": "Python 3",
   "language": "python",
   "name": "python3"
  },
  "language_info": {
   "codemirror_mode": {
    "name": "ipython",
    "version": 3
   },
   "file_extension": ".py",
   "mimetype": "text/x-python",
   "name": "python",
   "nbconvert_exporter": "python",
   "pygments_lexer": "ipython3",
   "version": "3.7.10"
  }
 },
 "nbformat": 4,
 "nbformat_minor": 4
}
